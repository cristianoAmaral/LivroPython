{
 "cells": [
  {
   "attachments": {},
   "cell_type": "markdown",
   "metadata": {},
   "source": [
    "## Capitulo 2"
   ]
  },
  {
   "attachments": {},
   "cell_type": "markdown",
   "metadata": {},
   "source": [
    "#### Exercicio 01"
   ]
  },
  {
   "cell_type": "code",
   "execution_count": 3,
   "metadata": {},
   "outputs": [
    {
     "name": "stdout",
     "output_type": "stream",
     "text": [
      "Hello World Python!\n"
     ]
    }
   ],
   "source": [
    "message = \"Hello World Python!\"\n",
    "print(message)"
   ]
  },
  {
   "attachments": {},
   "cell_type": "markdown",
   "metadata": {},
   "source": [
    "## Faça você mesmo."
   ]
  },
  {
   "attachments": {},
   "cell_type": "markdown",
   "metadata": {},
   "source": [
    "#### 2.1 Mensagem Simples"
   ]
  },
  {
   "cell_type": "code",
   "execution_count": 4,
   "metadata": {},
   "outputs": [
    {
     "name": "stdout",
     "output_type": "stream",
     "text": [
      "Mensagem simples\n"
     ]
    }
   ],
   "source": [
    "message = 'Mensagem simples'\n",
    "print(message)"
   ]
  },
  {
   "attachments": {},
   "cell_type": "markdown",
   "metadata": {},
   "source": [
    "2.2 Mensagem Simples 1.0"
   ]
  },
  {
   "cell_type": "code",
   "execution_count": 5,
   "metadata": {},
   "outputs": [
    {
     "name": "stdout",
     "output_type": "stream",
     "text": [
      "Mensagem Simples 2\n",
      "Mensagem 2 recebendp novo argumento\n"
     ]
    }
   ],
   "source": [
    "message = 'Mensagem Simples 2'\n",
    "print(message)\n",
    "message = 'Mensagem 2 recebendp novo argumento'\n",
    "print(message)"
   ]
  },
  {
   "attachments": {},
   "cell_type": "markdown",
   "metadata": {},
   "source": [
    "## Strings"
   ]
  },
  {
   "attachments": {},
   "cell_type": "markdown",
   "metadata": {},
   "source": [
    "### Exemplo 01"
   ]
  },
  {
   "cell_type": "code",
   "execution_count": 3,
   "metadata": {},
   "outputs": [
    {
     "name": "stdout",
     "output_type": "stream",
     "text": [
      "Ada Lovelace\n",
      "ADA LOVELACE\n",
      "ada lovelace\n"
     ]
    }
   ],
   "source": [
    "name = 'ada lovelace'\n",
    "# O método .title() escreve as palavras com a primeira letra maiuscula.\n",
    "print(name.title())\n",
    "# O método .upper() escreve as palavras com a primeira letra maiuscula.\n",
    "print(name.upper())\n",
    "# O método .lower() escreve as palavras com a primeira letra maiuscula.\n",
    "print(name.lower())\n"
   ]
  },
  {
   "attachments": {},
   "cell_type": "markdown",
   "metadata": {},
   "source": [
    "## Combinando ou concatenando strings"
   ]
  },
  {
   "cell_type": "code",
   "execution_count": 10,
   "metadata": {},
   "outputs": [
    {
     "name": "stdout",
     "output_type": "stream",
     "text": [
      "Ada Lovelace\n",
      "Hello, Ada Lovelace!\n"
     ]
    }
   ],
   "source": [
    "first_name = 'ada'\n",
    "last_name = 'lovelace'\n",
    "\n",
    "full_name = first_name + ' ' + last_name\n",
    "\n",
    "print(full_name.title())\n",
    "\n",
    "message = 'Hello, '+ full_name.title() + '!'\n",
    "print(message)"
   ]
  },
  {
   "cell_type": "code",
   "execution_count": null,
   "metadata": {},
   "outputs": [],
   "source": [
    "## Acrescentando espaços ou tabulações ou quebras de linha.\n",
    "# Com a combinação \"\\t\" é podemos acresentar um espaço. \n",
    "\n",
    "print(\"\\tPython\")\n",
    "\n",
    "# com a combinação \"\\n\\t\"podemos gerar um espaço e quebrar linhas.\n",
    "print(\"Cristiano \\n\\tAmaral\")\n"
   ]
  },
  {
   "attachments": {},
   "cell_type": "markdown",
   "metadata": {},
   "source": [
    "## Removendo espaços em branco"
   ]
  },
  {
   "cell_type": "code",
   "execution_count": null,
   "metadata": {},
   "outputs": [],
   "source": [
    "# Para remover espaços em branco do lado direito use o método rstrip()\n",
    "\n",
    "favorite_language = 'python '\n",
    "testador = \"______\"\n",
    "print(favorite_language + testador)\n",
    "print(favorite_language.rstrip() + testador)\n",
    "\n",
    "sem_espacos = favorite_language.rstrip()\n",
    "print(sem_espacos + testador)\n",
    "\n",
    "print('=======================================')\n",
    "\n",
    "# Para remover espaços em branco do lado direito use o método lstrip()\n",
    "\n",
    "favorite_language = ' python'\n",
    "print(favorite_language)\n",
    "print(favorite_language.lstrip())\n",
    "\n",
    "sem_espacos = favorite_language.lstrip()\n",
    "print(sem_espacos)"
   ]
  },
  {
   "attachments": {},
   "cell_type": "markdown",
   "metadata": {},
   "source": [
    "# Faça você mesmo"
   ]
  },
  {
   "attachments": {},
   "cell_type": "markdown",
   "metadata": {},
   "source": [
    "### 2.3 Mensagem Pessoal:"
   ]
  },
  {
   "cell_type": "code",
   "execution_count": 20,
   "metadata": {},
   "outputs": [
    {
     "name": "stdout",
     "output_type": "stream",
     "text": [
      "Olá Roger, gotaria de aprender sobre Python hoje? \n"
     ]
    }
   ],
   "source": [
    "name = \"Roger\"\n",
    "print(\"Olá \" + name + \", gotaria de aprender sobre Python hoje? \")"
   ]
  },
  {
   "attachments": {},
   "cell_type": "markdown",
   "metadata": {},
   "source": [
    "### 2.4 Letras maiúsculas e minúsculas em nomes:"
   ]
  },
  {
   "cell_type": "code",
   "execution_count": 22,
   "metadata": {},
   "outputs": [
    {
     "name": "stdout",
     "output_type": "stream",
     "text": [
      "Cristiano Amaral\n",
      "CRISTIANO AMARAL\n",
      "cristiano amaral\n"
     ]
    }
   ],
   "source": [
    "full_name = \"cristiano amaral\"\n",
    "print(full_name.title())\n",
    "print(full_name.upper())\n",
    "print(full_name.lower())"
   ]
  },
  {
   "attachments": {},
   "cell_type": "markdown",
   "metadata": {},
   "source": [
    "### 2.5 Citação Famosa:"
   ]
  },
  {
   "cell_type": "code",
   "execution_count": 25,
   "metadata": {},
   "outputs": [
    {
     "name": "stdout",
     "output_type": "stream",
     "text": [
      "Certa vez disse, Steve Jobs! \n",
      "\t\"Minhas coisas favoritas da vida não custam dinheiro. \n",
      "\tEstá claro que o nosso maior recurso é o tempo.\" \n"
     ]
    }
   ],
   "source": [
    "name = 'steve Jobs'\n",
    "frase = ' \\n\\t\"Minhas coisas favoritas da vida não custam dinheiro. \\n\\tEstá claro que o nosso maior recurso é o tempo.\" '\n",
    "print(\"Certa vez disse, \" + name.title() +\"!\"+ frase)"
   ]
  },
  {
   "attachments": {},
   "cell_type": "markdown",
   "metadata": {},
   "source": [
    "### 2.6 Citação Famosa 2:"
   ]
  },
  {
   "cell_type": "code",
   "execution_count": null,
   "metadata": {},
   "outputs": [],
   "source": [
    "name = 'steve Jobs'\n",
    "frase = ' \\n\\t\"Minhas coisas favoritas da vida não custam dinheiro. \\n\\tEstá claro que o nosso maior recurso é o tempo.\" '\n",
    "print(\"Certa vez disse, \" + name.title() +\"!\"+ frase)"
   ]
  },
  {
   "attachments": {},
   "cell_type": "markdown",
   "metadata": {},
   "source": [
    "### 2.7 Removendo caracteres em branco:"
   ]
  },
  {
   "cell_type": "code",
   "execution_count": 32,
   "metadata": {},
   "outputs": [
    {
     "name": "stdout",
     "output_type": "stream",
     "text": [
      "     Steve Job!      \n",
      "Steve Job!      \n",
      "     Steve Job!\n",
      "Steve Job!\n"
     ]
    }
   ],
   "source": [
    "name = \"     Steve Job!      \"\n",
    "print(name)\n",
    "#\n",
    "print(name.lstrip())\n",
    "print(name.rstrip())\n",
    "print(name.strip())\n"
   ]
  },
  {
   "attachments": {},
   "cell_type": "markdown",
   "metadata": {},
   "source": [
    "# Números em Python"
   ]
  },
  {
   "attachments": {},
   "cell_type": "markdown",
   "metadata": {},
   "source": [
    "### Inteiros em Python"
   ]
  },
  {
   "cell_type": "code",
   "execution_count": 34,
   "metadata": {},
   "outputs": [
    {
     "name": "stdout",
     "output_type": "stream",
     "text": [
      "5\n",
      "1\n",
      "6\n",
      "1.5\n"
     ]
    }
   ],
   "source": [
    "# Operações de Somar , subtrair , multiplicar e dividir\n",
    "\n",
    "soma = 2 +3\n",
    "print(soma)\n",
    "subtracao = 3 - 2 \n",
    "print(subtracao)\n",
    "multiplicacao = 2 * 3\n",
    "print(multiplicacao)\n",
    "divisao = 3/2\n",
    "print(divisao)"
   ]
  },
  {
   "cell_type": "code",
   "execution_count": 39,
   "metadata": {},
   "outputs": [
    {
     "name": "stdout",
     "output_type": "stream",
     "text": [
      "9\n",
      "1000000\n",
      "=================\n",
      "14\n",
      "20\n"
     ]
    }
   ],
   "source": [
    "# Exponenciação em Python\n",
    "\n",
    "exponenciacao = 3 ** 2\n",
    "print(exponenciacao)\n",
    "exponenciacao = 10 ** 6\n",
    "print(exponenciacao)\n",
    "\n",
    "print(\"=================\")\n",
    "# Ordem das operações com parênteses\n",
    "\n",
    "print( 2 + 3*4)\n",
    "print((2+3) * 4)"
   ]
  },
  {
   "attachments": {},
   "cell_type": "markdown",
   "metadata": {},
   "source": [
    "### Números de Ponto Flutuante:"
   ]
  },
  {
   "cell_type": "code",
   "execution_count": 42,
   "metadata": {},
   "outputs": [
    {
     "name": "stdout",
     "output_type": "stream",
     "text": [
      "0.1\n",
      "0.4\n",
      "0.2\n",
      "0.4\n",
      "0.30000000000000004\n",
      "0.30000000000000004\n"
     ]
    }
   ],
   "source": [
    "print(0.1)\n",
    "print(0.2 + 0.2)\n",
    "print(2 * 0.1)\n",
    "print(2 * 0.2)\n",
    "print(0.2 + 0.1)\n",
    "print(3 * 0.1)\n"
   ]
  },
  {
   "attachments": {},
   "cell_type": "markdown",
   "metadata": {},
   "source": [
    "## Evitando erros de tipo com a função str()"
   ]
  },
  {
   "cell_type": "code",
   "execution_count": 46,
   "metadata": {},
   "outputs": [
    {
     "name": "stdout",
     "output_type": "stream",
     "text": [
      "Happy 23rd Birthday\n"
     ]
    }
   ],
   "source": [
    "age = 23\n",
    "message = \"Happy \" + str(age) + \"rd Birthday\"\n",
    "print(message)"
   ]
  },
  {
   "attachments": {},
   "cell_type": "markdown",
   "metadata": {},
   "source": [
    "### Inteiros em Python 2:"
   ]
  },
  {
   "cell_type": "code",
   "execution_count": 47,
   "metadata": {},
   "outputs": [
    {
     "name": "stdout",
     "output_type": "stream",
     "text": [
      "1.5\n"
     ]
    }
   ],
   "source": [
    "print(3 / 2)"
   ]
  },
  {
   "attachments": {},
   "cell_type": "markdown",
   "metadata": {},
   "source": [
    "## Faça Você mesmo:"
   ]
  },
  {
   "attachments": {},
   "cell_type": "markdown",
   "metadata": {},
   "source": [
    "### 2.8 Numero oito:"
   ]
  },
  {
   "cell_type": "code",
   "execution_count": 49,
   "metadata": {},
   "outputs": [
    {
     "name": "stdout",
     "output_type": "stream",
     "text": [
      "8\n",
      "8\n",
      "8\n",
      "8.0\n"
     ]
    }
   ],
   "source": [
    "print(4 + 4)\n",
    "print(10 - 2)\n",
    "print(2*4)\n",
    "print(16/2)"
   ]
  },
  {
   "attachments": {},
   "cell_type": "markdown",
   "metadata": {},
   "source": [
    "### 2.9 Número favorito:"
   ]
  },
  {
   "cell_type": "code",
   "execution_count": 52,
   "metadata": {},
   "outputs": [
    {
     "name": "stdout",
     "output_type": "stream",
     "text": [
      " Meu número favorito é 5\n"
     ]
    }
   ],
   "source": [
    "numero = 5\n",
    "\n",
    "print(\" Meu número favorito é \"+ str(numero))"
   ]
  },
  {
   "attachments": {},
   "cell_type": "markdown",
   "metadata": {},
   "source": [
    "## Comentários em Pythom"
   ]
  },
  {
   "cell_type": "code",
   "execution_count": 53,
   "metadata": {},
   "outputs": [
    {
     "name": "stdout",
     "output_type": "stream",
     "text": [
      "Hello Python people!\n"
     ]
    }
   ],
   "source": [
    "# Caracter (#) Sustenido igual comentário de uma linha\n",
    "print('Hello Python people!')"
   ]
  },
  {
   "attachments": {},
   "cell_type": "markdown",
   "metadata": {},
   "source": [
    "## Faça você mesmo:"
   ]
  },
  {
   "attachments": {},
   "cell_type": "markdown",
   "metadata": {},
   "source": [
    "### 2.10 Acrescentando comentários:"
   ]
  },
  {
   "cell_type": "code",
   "execution_count": 56,
   "metadata": {},
   "outputs": [
    {
     "name": "stdout",
     "output_type": "stream",
     "text": [
      "Happy 23rd Birthday\n",
      "=============================\n",
      "Certa vez disse, Steve Jobs! \n",
      "\t\"Minhas coisas favoritas da vida não custam dinheiro. \n",
      "\tEstá claro que o nosso maior recurso é o tempo.\" \n"
     ]
    }
   ],
   "source": [
    "# Programa para Mensagem de Feliz aniversário\n",
    "age = 23\n",
    "message = \"Happy \" + str(age) + \"rd Birthday\"\n",
    "print(message)\n",
    "\n",
    "print('=============================')\n",
    "\n",
    "# Citação de Steve Jobs\n",
    "\n",
    "name = 'steve Jobs'\n",
    "frase = ' \\n\\t\"Minhas coisas favoritas da vida não custam dinheiro. \\n\\tEstá claro que o nosso maior recurso é o tempo.\" '\n",
    "print(\"Certa vez disse, \" + name.title() +\"!\"+ frase)"
   ]
  },
  {
   "attachments": {},
   "cell_type": "markdown",
   "metadata": {},
   "source": [
    "## Faça você mesmo:"
   ]
  },
  {
   "attachments": {},
   "cell_type": "markdown",
   "metadata": {},
   "source": [
    "### Zen de Python"
   ]
  },
  {
   "cell_type": "code",
   "execution_count": 58,
   "metadata": {},
   "outputs": [
    {
     "name": "stdout",
     "output_type": "stream",
     "text": [
      "The Zen of Python, by Tim Peters\n",
      "\n",
      "Beautiful is better than ugly.\n",
      "Explicit is better than implicit.\n",
      "Simple is better than complex.\n",
      "Complex is better than complicated.\n",
      "Flat is better than nested.\n",
      "Sparse is better than dense.\n",
      "Readability counts.\n",
      "Special cases aren't special enough to break the rules.\n",
      "Although practicality beats purity.\n",
      "Errors should never pass silently.\n",
      "Unless explicitly silenced.\n",
      "In the face of ambiguity, refuse the temptation to guess.\n",
      "There should be one-- and preferably only one --obvious way to do it.\n",
      "Although that way may not be obvious at first unless you're Dutch.\n",
      "Now is better than never.\n",
      "Although never is often better than *right* now.\n",
      "If the implementation is hard to explain, it's a bad idea.\n",
      "If the implementation is easy to explain, it may be a good idea.\n",
      "Namespaces are one honking great idea -- let's do more of those!\n"
     ]
    }
   ],
   "source": [
    "import this"
   ]
  }
 ],
 "metadata": {
  "kernelspec": {
   "display_name": "Python 3",
   "language": "python",
   "name": "python3"
  },
  "language_info": {
   "codemirror_mode": {
    "name": "ipython",
    "version": 3
   },
   "file_extension": ".py",
   "mimetype": "text/x-python",
   "name": "python",
   "nbconvert_exporter": "python",
   "pygments_lexer": "ipython3",
   "version": "3.10.7"
  },
  "orig_nbformat": 4,
  "vscode": {
   "interpreter": {
    "hash": "31f2aee4e71d21fbe5cf8b01ff0e069b9275f58929596ceb00d14d90e3e16cd6"
   }
  }
 },
 "nbformat": 4,
 "nbformat_minor": 2
}
